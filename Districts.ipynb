{
 "cells": [
  {
   "cell_type": "code",
   "execution_count": 257,
   "metadata": {},
   "outputs": [],
   "source": [
    "import pandas as pd\n",
    "import seaborn as sns\n",
    "reconstr = pd.read_csv('datas\\prikaz_reconstr.csv')"
   ]
  },
  {
   "cell_type": "code",
   "execution_count": 2,
   "metadata": {},
   "outputs": [
    {
     "data": {
      "text/html": [
       "<div>\n",
       "<style scoped>\n",
       "    .dataframe tbody tr th:only-of-type {\n",
       "        vertical-align: middle;\n",
       "    }\n",
       "\n",
       "    .dataframe tbody tr th {\n",
       "        vertical-align: top;\n",
       "    }\n",
       "\n",
       "    .dataframe thead th {\n",
       "        text-align: right;\n",
       "    }\n",
       "</style>\n",
       "<table border=\"1\" class=\"dataframe\">\n",
       "  <thead>\n",
       "    <tr style=\"text-align: right;\">\n",
       "      <th></th>\n",
       "      <th>№</th>\n",
       "      <th>district</th>\n",
       "      <th>city_place</th>\n",
       "      <th>adress</th>\n",
       "    </tr>\n",
       "  </thead>\n",
       "  <tbody>\n",
       "    <tr>\n",
       "      <th>0</th>\n",
       "      <td>1</td>\n",
       "      <td>САО</td>\n",
       "      <td>Бескудниковский</td>\n",
       "      <td>Бескудниковский бульв., д.48 к.5</td>\n",
       "    </tr>\n",
       "    <tr>\n",
       "      <th>1</th>\n",
       "      <td>2</td>\n",
       "      <td>САО</td>\n",
       "      <td>Бескудниковский</td>\n",
       "      <td>Бескудниковский бульв., д.48 к.7</td>\n",
       "    </tr>\n",
       "    <tr>\n",
       "      <th>2</th>\n",
       "      <td>3</td>\n",
       "      <td>САО</td>\n",
       "      <td>Бескудниковский</td>\n",
       "      <td>Дмитровское шоссе, д.95 к.2</td>\n",
       "    </tr>\n",
       "    <tr>\n",
       "      <th>3</th>\n",
       "      <td>4</td>\n",
       "      <td>САО</td>\n",
       "      <td>Бескудниковский</td>\n",
       "      <td>Дмитровское шоссе, д.99 к.2</td>\n",
       "    </tr>\n",
       "    <tr>\n",
       "      <th>4</th>\n",
       "      <td>5</td>\n",
       "      <td>САО</td>\n",
       "      <td>Бескудниковский</td>\n",
       "      <td>Коровинское шоссе, д.4 к.1</td>\n",
       "    </tr>\n",
       "  </tbody>\n",
       "</table>\n",
       "</div>"
      ],
      "text/plain": [
       "   № district       city_place                            adress\n",
       "0  1      САО  Бескудниковский  Бескудниковский бульв., д.48 к.5\n",
       "1  2      САО  Бескудниковский  Бескудниковский бульв., д.48 к.7\n",
       "2  3      САО  Бескудниковский       Дмитровское шоссе, д.95 к.2\n",
       "3  4      САО  Бескудниковский       Дмитровское шоссе, д.99 к.2\n",
       "4  5      САО  Бескудниковский        Коровинское шоссе, д.4 к.1"
      ]
     },
     "execution_count": 2,
     "metadata": {},
     "output_type": "execute_result"
    }
   ],
   "source": [
    "reconstr.head()"
   ]
  },
  {
   "cell_type": "code",
   "execution_count": 3,
   "metadata": {},
   "outputs": [
    {
     "name": "stdout",
     "output_type": "stream",
     "text": [
      "<class 'pandas.core.frame.DataFrame'>\n",
      "RangeIndex: 840 entries, 0 to 839\n",
      "Data columns (total 4 columns):\n",
      "№             840 non-null int64\n",
      "district      840 non-null object\n",
      "city_place    840 non-null object\n",
      "adress        840 non-null object\n",
      "dtypes: int64(1), object(3)\n",
      "memory usage: 26.4+ KB\n"
     ]
    }
   ],
   "source": [
    "reconstr.drop_duplicates()\n",
    "reconstr.info()"
   ]
  },
  {
   "cell_type": "code",
   "execution_count": 92,
   "metadata": {},
   "outputs": [
    {
     "data": {
      "text/plain": [
       "<matplotlib.axes._subplots.AxesSubplot at 0x1d00a7f2308>"
      ]
     },
     "execution_count": 92,
     "metadata": {},
     "output_type": "execute_result"
    },
    {
     "data": {
      "image/png": "[encoded data removed]",
      "text/plain": [
       "<Figure size 432x288 with 2 Axes>"
      ]
     },
     "metadata": {
      "needs_background": "light"
     },
     "output_type": "display_data"
    }
   ],
   "source": [
    "# warm map of the new and the prev. values\n",
    "cols = reconstr.columns[:30]\n",
    "colours = ['#000099', '#ffff00'] \n",
    "sns.heatmap(reconstr[cols].isnull(), cmap=sns.color_palette(colours))"
   ]
  },
  {
   "cell_type": "code",
   "execution_count": 5,
   "metadata": {},
   "outputs": [
    {
     "name": "stdout",
     "output_type": "stream",
     "text": [
      "(840, 4)\n",
      "(840, 3)\n"
     ]
    }
   ],
   "source": [
    "reconstr_dedupped = reconstr.drop('adress', axis=1).drop_duplicates()\n",
    "# comparing\n",
    "print(reconstr.shape)\n",
    "print(reconstr_dedupped.shape)"
   ]
  },
  {
   "cell_type": "code",
   "execution_count": 6,
   "metadata": {
    "scrolled": true
   },
   "outputs": [
    {
     "data": {
      "text/plain": [
       "рязанский просп., д.17        1\n",
       "карельский бульв., д.14/16    1\n",
       "камова ул., д.24 к.1          1\n",
       "ставропольская ул., д.5а      1\n",
       "щелковское шоссе, д.92 к.6    1\n",
       "                             ..\n",
       "бутлерова ул., д.36 к.1       1\n",
       "никитинская ул., д.21 к.3     1\n",
       "нагорная ул., д.7 к.4         1\n",
       "мира просп., д.135а           1\n",
       "перекопская ул., д.27 к.2     1\n",
       "Name: adress, Length: 840, dtype: int64"
      ]
     },
     "execution_count": 6,
     "metadata": {},
     "output_type": "execute_result"
    }
   ],
   "source": [
    "reconstr['adress'] = reconstr['adress'].str.lower()\n",
    "reconstr['adress'].value_counts(dropna=False)"
   ]
  },
  {
   "cell_type": "code",
   "execution_count": 11,
   "metadata": {
    "scrolled": false
   },
   "outputs": [
    {
     "data": {
      "text/html": [
       "<div>\n",
       "<style scoped>\n",
       "    .dataframe tbody tr th:only-of-type {\n",
       "        vertical-align: middle;\n",
       "    }\n",
       "\n",
       "    .dataframe tbody tr th {\n",
       "        vertical-align: top;\n",
       "    }\n",
       "\n",
       "    .dataframe thead th {\n",
       "        text-align: right;\n",
       "    }\n",
       "</style>\n",
       "<table border=\"1\" class=\"dataframe\">\n",
       "  <thead>\n",
       "    <tr style=\"text-align: right;\">\n",
       "      <th></th>\n",
       "      <th>№</th>\n",
       "      <th>district</th>\n",
       "      <th>city_place</th>\n",
       "      <th>adress</th>\n",
       "      <th>street</th>\n",
       "      <th>obj</th>\n",
       "      <th>bld</th>\n",
       "      <th>/</th>\n",
       "    </tr>\n",
       "  </thead>\n",
       "  <tbody>\n",
       "    <tr>\n",
       "      <th>0</th>\n",
       "      <td>1</td>\n",
       "      <td>САО</td>\n",
       "      <td>Бескудниковский</td>\n",
       "      <td>бескудниковский бульв. д.48 к.5</td>\n",
       "      <td>бескудниковский</td>\n",
       "      <td>бульв.</td>\n",
       "      <td>д.48</td>\n",
       "      <td>к.5</td>\n",
       "    </tr>\n",
       "    <tr>\n",
       "      <th>1</th>\n",
       "      <td>2</td>\n",
       "      <td>САО</td>\n",
       "      <td>Бескудниковский</td>\n",
       "      <td>бескудниковский бульв. д.48 к.7</td>\n",
       "      <td>бескудниковский</td>\n",
       "      <td>бульв.</td>\n",
       "      <td>д.48</td>\n",
       "      <td>к.7</td>\n",
       "    </tr>\n",
       "    <tr>\n",
       "      <th>2</th>\n",
       "      <td>3</td>\n",
       "      <td>САО</td>\n",
       "      <td>Бескудниковский</td>\n",
       "      <td>дмитровское шоссе д.95 к.2</td>\n",
       "      <td>дмитровское</td>\n",
       "      <td>шоссе</td>\n",
       "      <td>д.95</td>\n",
       "      <td>к.2</td>\n",
       "    </tr>\n",
       "    <tr>\n",
       "      <th>3</th>\n",
       "      <td>4</td>\n",
       "      <td>САО</td>\n",
       "      <td>Бескудниковский</td>\n",
       "      <td>дмитровское шоссе д.99 к.2</td>\n",
       "      <td>дмитровское</td>\n",
       "      <td>шоссе</td>\n",
       "      <td>д.99</td>\n",
       "      <td>к.2</td>\n",
       "    </tr>\n",
       "    <tr>\n",
       "      <th>4</th>\n",
       "      <td>5</td>\n",
       "      <td>САО</td>\n",
       "      <td>Бескудниковский</td>\n",
       "      <td>коровинское шоссе д.4 к.1</td>\n",
       "      <td>коровинское</td>\n",
       "      <td>шоссе</td>\n",
       "      <td>д.4</td>\n",
       "      <td>к.1</td>\n",
       "    </tr>\n",
       "  </tbody>\n",
       "</table>\n",
       "</div>"
      ],
      "text/plain": [
       "   № district       city_place                           adress  \\\n",
       "0  1      САО  Бескудниковский  бескудниковский бульв. д.48 к.5   \n",
       "1  2      САО  Бескудниковский  бескудниковский бульв. д.48 к.7   \n",
       "2  3      САО  Бескудниковский       дмитровское шоссе д.95 к.2   \n",
       "3  4      САО  Бескудниковский       дмитровское шоссе д.99 к.2   \n",
       "4  5      САО  Бескудниковский        коровинское шоссе д.4 к.1   \n",
       "\n",
       "            street     obj   bld    /  \n",
       "0  бескудниковский  бульв.  д.48  к.5  \n",
       "1  бескудниковский  бульв.  д.48  к.7  \n",
       "2      дмитровское   шоссе  д.95  к.2  \n",
       "3      дмитровское   шоссе  д.99  к.2  \n",
       "4      коровинское   шоссе   д.4  к.1  "
      ]
     },
     "execution_count": 11,
     "metadata": {},
     "output_type": "execute_result"
    }
   ],
   "source": [
    "# trying sepatare via columns:\n",
    "import re\n",
    "for column in reconstr['adress']:\n",
    "    reconstr['adress'] = reconstr['adress'].str.replace(',','')\n",
    "reconstr['street'] = None; reconstr['obj'] = None; reconstr['bld'] = None; reconstr['/'] = None;\n",
    "for i, s in enumerate(reconstr['adress']):\n",
    "    street = re.findall('[а-яА-Я]*', s)[0].strip()\n",
    "    reconstr.loc[i,('street')] = street\n",
    "    for col, val in zip(['obj', 'bld', '/'], s[len(street):].strip().split(' ')):\n",
    "        reconstr.loc[i,(col)] = val\n",
    "reconstr.head(5)"
   ]
  },
  {
   "cell_type": "code",
   "execution_count": 12,
   "metadata": {},
   "outputs": [
    {
     "data": {
      "text/plain": [
       "array(['д.48', 'д.95', 'д.99', 'д.4', 'д.8', 'д.1', 'д.3', 'д.5', 'д.6',\n",
       "       'д.49', 'д.51', 'д.62', 'пер.', 'д.', 'д.31', 'д.33', 'д.41',\n",
       "       'д.43/70', 'д.23', 'д.66', 'д.68', 'д.11', 'д.9/25', 'д.141',\n",
       "       'д.143', 'д.9', 'д.10', 'д.14/16', 'д.18', 'д.26', 'д.2', 'д.22',\n",
       "       'д.22б', 'д.24', 'д.24б', 'д.29', 'д.29а', 'пр.', 'ул.', '',\n",
       "       'д.32', 'д.36', 'д.55', 'д.14', 'д.15а', 'д.13', 'д.12', 'д.17',\n",
       "       'д.28', 'д.44', 'д.37а', 'д.37б', 'д.39', 'д.7', 'д.135а', 'д.7/1',\n",
       "       'д.19', 'д.20', 'д.16', 'д.10а', 'бульв.', 'д.71/25', 'д.70',\n",
       "       'д.30', 'д.34', 'д.40', 'д.42', 'д.46', 'д.52', 'д.64', 'д.74',\n",
       "       'д.11/38', 'д.15', 'д.35', 'д.37', 'д.43', 'д.47', 'д.53', 'д.57',\n",
       "       'д.63', 'д.101', 'д.103', 'д.89', 'д.93', 'д.97', 'д.21', 'д.5а',\n",
       "       'д.61', 'д.25', 'д.27', 'д.12/23', 'парковая', 'д.50', 'д.92',\n",
       "       'д.56/72', 'д.58', 'д.60', 'д.62/59', 'д.3а', '3-я', '5-я',\n",
       "       'д.44а', 'д.45', 'д.91', 'квартал', 'д.107', 'д.109', 'д.155',\n",
       "       'д.161', 'д.163', 'д.26/6', 'д.17а', 'д.40а', 'д.5-9', 'д.4/117',\n",
       "       'д.5/115', 'д.18/18', 'д.111', 'д.113', 'д.119', 'д.121/1',\n",
       "       'д.125', 'д.54', 'д.2/123', 'октября', 'д.7а', 'д.7б', 'д.9/10',\n",
       "       'д.9а', 'д.106', 'д.71', 'д.76', 'д.78', 'д.83', 'д.83а', 'д.88',\n",
       "       'д.90', 'д.94', 'д.5б', 'д.21а', 'д.2в', 'д.143в', 'д.145', 'д.6г',\n",
       "       'д.27/14', 'д.85', 'д.123а', '1-й', 'д.80', 'д.82', 'д.86',\n",
       "       'д.8/8', '(митино)', 'д.104', 'д.69'], dtype=object)"
      ]
     },
     "execution_count": 12,
     "metadata": {},
     "output_type": "execute_result"
    }
   ],
   "source": [
    "# check unique\n",
    "reconstr['bld'].unique()"
   ]
  },
  {
   "cell_type": "code",
   "execution_count": 13,
   "metadata": {},
   "outputs": [
    {
     "data": {
      "text/plain": [
       "array(['бульв.', 'шоссе', 'ул.', '1-й', '2-й', '3-й', '4-й', 'генерала',\n",
       "       'пр.', 'вишневского', 'летчика', 'академика', 'просп.', 'маршала',\n",
       "       '16-я', '3-я', '5-я', '7-я', '1-я', '2-я', 'б.', 'люксембург',\n",
       "       'озеро', 'химушина', '15-я', '9-я', '11-я', 'горы', 'полетаева',\n",
       "       'ленинцев', 'ср.', 'пер.', 'поля', 'лет', '-зуевский', 'верхн.',\n",
       "       'кварт.90а', 'романова', 'пос.', 'м.', 'наб.', '-маклая',\n",
       "       'архитектора', 'зорь', 'алексеева', 'поливановой', '1980',\n",
       "       'кожиной', 'курина', 'дундича', 'панфиловцев'], dtype=object)"
      ]
     },
     "execution_count": 13,
     "metadata": {},
     "output_type": "execute_result"
    }
   ],
   "source": [
    "reconstr['obj'].unique()"
   ]
  },
  {
   "cell_type": "code",
   "execution_count": 14,
   "metadata": {},
   "outputs": [
    {
     "data": {
      "text/plain": [
       "155"
      ]
     },
     "execution_count": 14,
     "metadata": {},
     "output_type": "execute_result"
    }
   ],
   "source": [
    "len(reconstr['bld'].unique())"
   ]
  },
  {
   "cell_type": "code",
   "execution_count": 15,
   "metadata": {},
   "outputs": [
    {
     "data": {
      "text/plain": [
       "array(['48', '95', '99', '4', '8', '1', '3', '5', '6', '49', '51', '62',\n",
       "       'пер.', '', '31', '33', '41', '43/7', '23', '66', '68', '11',\n",
       "       '9/25', '141', '143', '9', '14/16', '18', '26', '2', '22', '22б',\n",
       "       '24', '24б', '29', '29а', 'пр.', 'ул.', '32', '36', '55', '14',\n",
       "       '15а', '13', '12', '17', '28', '44', '37а', '37б', '39', '7',\n",
       "       '135а', '7/1', '19', '16', '1а', 'бульв.', '71/25', '34', '42',\n",
       "       '46', '52', '64', '74', '11/38', '15', '35', '37', '43', '47',\n",
       "       '53', '57', '63', '89', '93', '97', '21', '5а', '61', '25', '27',\n",
       "       '12/23', 'парвая', '92', '56/72', '58', '62/59', '3а', '3-я',\n",
       "       '5-я', '44а', '45', '91', 'артал', '155', '161', '163', '26/6',\n",
       "       '17а', '4а', '5-9', '4/117', '5/115', '18/18', '111', '113', '119',\n",
       "       '121/1', '125', '54', '2/123', 'оября', '7а', '7б', '9/1', '9а',\n",
       "       '71', '76', '78', '83', '83а', '88', '94', '5б', '21а', '2в',\n",
       "       '143в', '145', '6г', '27/14', '85', '123а', '1-й', '82', '86',\n",
       "       '8/8', '()', '69'], dtype=object)"
      ]
     },
     "execution_count": 15,
     "metadata": {},
     "output_type": "execute_result"
    }
   ],
   "source": [
    "for column in reconstr['bld']:\n",
    "    reconstr['bld'] = reconstr['bld'].str.replace('д.','')\n",
    "    reconstr['bld'] = reconstr['bld'].str.replace('к.','')\n",
    "    reconstr['bld'] = reconstr['bld'].str.replace('(митино)','')\n",
    "    reconstr['bld'] = reconstr['bld'].str.replace('()','')\n",
    "    reconstr['bld'] = reconstr['bld'].str.replace('0','')\n",
    "reconstr['bld'] = reconstr['bld'].fillna(0)\n",
    "reconstr['bld'].unique()\n",
    "# not beautiful set"
   ]
  },
  {
   "cell_type": "code",
   "execution_count": 18,
   "metadata": {
    "scrolled": false
   },
   "outputs": [
    {
     "data": {
      "text/html": [
       "<div>\n",
       "<style scoped>\n",
       "    .dataframe tbody tr th:only-of-type {\n",
       "        vertical-align: middle;\n",
       "    }\n",
       "\n",
       "    .dataframe tbody tr th {\n",
       "        vertical-align: top;\n",
       "    }\n",
       "\n",
       "    .dataframe thead th {\n",
       "        text-align: right;\n",
       "    }\n",
       "</style>\n",
       "<table border=\"1\" class=\"dataframe\">\n",
       "  <thead>\n",
       "    <tr style=\"text-align: right;\">\n",
       "      <th></th>\n",
       "      <th>str</th>\n",
       "    </tr>\n",
       "  </thead>\n",
       "  <tbody>\n",
       "    <tr>\n",
       "      <th>835</th>\n",
       "      <td>Героев Панфиловцев ул., д.47 к.1</td>\n",
       "    </tr>\n",
       "    <tr>\n",
       "      <th>836</th>\n",
       "      <td>Героев Панфиловцев ул., д.47 к.2</td>\n",
       "    </tr>\n",
       "    <tr>\n",
       "      <th>837</th>\n",
       "      <td>Героев Панфиловцев ул., д.49 к.1</td>\n",
       "    </tr>\n",
       "    <tr>\n",
       "      <th>838</th>\n",
       "      <td>Героев Панфиловцев ул., д.49 к.2</td>\n",
       "    </tr>\n",
       "    <tr>\n",
       "      <th>839</th>\n",
       "      <td>Свободы ул., д.69</td>\n",
       "    </tr>\n",
       "  </tbody>\n",
       "</table>\n",
       "</div>"
      ],
      "text/plain": [
       "                                  str\n",
       "835  Героев Панфиловцев ул., д.47 к.1\n",
       "836  Героев Панфиловцев ул., д.47 к.2\n",
       "837  Героев Панфиловцев ул., д.49 к.1\n",
       "838  Героев Панфиловцев ул., д.49 к.2\n",
       "839                 Свободы ул., д.69"
      ]
     },
     "execution_count": 18,
     "metadata": {},
     "output_type": "execute_result"
    }
   ],
   "source": [
    "# just check via tuple\n",
    "df = pd.read_csv('datas\\prikaz_reconstr.csv')\n",
    "pat = r'(?P<str>.+(?=\\bapt|\\bunit)|.+(?=#)|.+)?'\n",
    "sd = df.adress.str.extract(pat)\n",
    "sd.tail()"
   ]
  },
  {
   "cell_type": "markdown",
   "metadata": {},
   "source": [
    "let`s try with slices"
   ]
  },
  {
   "cell_type": "code",
   "execution_count": 54,
   "metadata": {},
   "outputs": [
    {
     "name": "stdout",
     "output_type": "stream",
     "text": [
      "Олеко Дундича ул.\n",
      "45\n",
      "1\n"
     ]
    }
   ],
   "source": [
    "s = \"Олеко Дундича ул., д.45 к.1\"\n",
    "print(s.split(',')[0])\n",
    "b = (s.split('д.')[1])\n",
    "h = (b.split(' ')[0])\n",
    "m = (b.split('к.')[1])\n",
    "print(h)\n",
    "print(m)\n",
    "# works"
   ]
  },
  {
   "cell_type": "code",
   "execution_count": 168,
   "metadata": {
    "scrolled": false
   },
   "outputs": [],
   "source": [
    "def adress(source):\n",
    "    try:\n",
    "        for s in source:\n",
    "            print(s.split(',')[0])                                 \n",
    "    except IndexError:\n",
    "        print('')"
   ]
  },
  {
   "cell_type": "code",
   "execution_count": 90,
   "metadata": {},
   "outputs": [],
   "source": [
    "def house(source):\n",
    "    try:\n",
    "        for s in source:\n",
    "            b = (s.split('д.')[1])\n",
    "            print(b.split(' ')[0])                      \n",
    "    except IndexError:\n",
    "        print('')"
   ]
  },
  {
   "cell_type": "code",
   "execution_count": 160,
   "metadata": {},
   "outputs": [],
   "source": [
    "def obj(source):\n",
    "    try:\n",
    "        for s in source:\n",
    "            a = (s.split(' к.')[-1])\n",
    "            if len(a) <= 2:\n",
    "                print(a)\n",
    "            else:\n",
    "                print('')\n",
    "    except IndexError:\n",
    "            print('')"
   ]
  },
  {
   "cell_type": "code",
   "execution_count": 210,
   "metadata": {},
   "outputs": [
    {
     "data": {
      "text/html": [
       "<div>\n",
       "<style scoped>\n",
       "    .dataframe tbody tr th:only-of-type {\n",
       "        vertical-align: middle;\n",
       "    }\n",
       "\n",
       "    .dataframe tbody tr th {\n",
       "        vertical-align: top;\n",
       "    }\n",
       "\n",
       "    .dataframe thead th {\n",
       "        text-align: right;\n",
       "    }\n",
       "</style>\n",
       "<table border=\"1\" class=\"dataframe\">\n",
       "  <thead>\n",
       "    <tr style=\"text-align: right;\">\n",
       "      <th></th>\n",
       "      <th>№</th>\n",
       "      <th>district</th>\n",
       "      <th>city_place</th>\n",
       "      <th>adress</th>\n",
       "    </tr>\n",
       "  </thead>\n",
       "  <tbody>\n",
       "    <tr>\n",
       "      <th>0</th>\n",
       "      <td>1</td>\n",
       "      <td>САО</td>\n",
       "      <td>Бескудниковский</td>\n",
       "      <td>Бескудниковский бульв., д.48 к.5</td>\n",
       "    </tr>\n",
       "    <tr>\n",
       "      <th>1</th>\n",
       "      <td>2</td>\n",
       "      <td>САО</td>\n",
       "      <td>Бескудниковский</td>\n",
       "      <td>Бескудниковский бульв., д.48 к.7</td>\n",
       "    </tr>\n",
       "    <tr>\n",
       "      <th>2</th>\n",
       "      <td>3</td>\n",
       "      <td>САО</td>\n",
       "      <td>Бескудниковский</td>\n",
       "      <td>Дмитровское шоссе, д.95 к.2</td>\n",
       "    </tr>\n",
       "    <tr>\n",
       "      <th>3</th>\n",
       "      <td>4</td>\n",
       "      <td>САО</td>\n",
       "      <td>Бескудниковский</td>\n",
       "      <td>Дмитровское шоссе, д.99 к.2</td>\n",
       "    </tr>\n",
       "    <tr>\n",
       "      <th>4</th>\n",
       "      <td>5</td>\n",
       "      <td>САО</td>\n",
       "      <td>Бескудниковский</td>\n",
       "      <td>Коровинское шоссе, д.4 к.1</td>\n",
       "    </tr>\n",
       "  </tbody>\n",
       "</table>\n",
       "</div>"
      ],
      "text/plain": [
       "   № district       city_place                            adress\n",
       "0  1      САО  Бескудниковский  Бескудниковский бульв., д.48 к.5\n",
       "1  2      САО  Бескудниковский  Бескудниковский бульв., д.48 к.7\n",
       "2  3      САО  Бескудниковский       Дмитровское шоссе, д.95 к.2\n",
       "3  4      САО  Бескудниковский       Дмитровское шоссе, д.99 к.2\n",
       "4  5      САО  Бескудниковский        Коровинское шоссе, д.4 к.1"
      ]
     },
     "execution_count": 210,
     "metadata": {},
     "output_type": "execute_result"
    }
   ],
   "source": [
    "test = pd.read_csv('datas\\prikaz_reconstr.csv')\n",
    "test.head()"
   ]
  },
  {
   "cell_type": "code",
   "execution_count": 211,
   "metadata": {},
   "outputs": [
    {
     "data": {
      "text/plain": [
       "array(['САО', 'СВАО', 'ВАО', 'ЮВАО', 'ЮАО', 'ЮЗАО', 'ЗАО', 'СЗАО'],\n",
       "      dtype=object)"
      ]
     },
     "execution_count": 211,
     "metadata": {},
     "output_type": "execute_result"
    }
   ],
   "source": [
    "test['district'].unique()"
   ]
  },
  {
   "cell_type": "code",
   "execution_count": 221,
   "metadata": {},
   "outputs": [
    {
     "data": {
      "text/html": [
       "<div>\n",
       "<style scoped>\n",
       "    .dataframe tbody tr th:only-of-type {\n",
       "        vertical-align: middle;\n",
       "    }\n",
       "\n",
       "    .dataframe tbody tr th {\n",
       "        vertical-align: top;\n",
       "    }\n",
       "\n",
       "    .dataframe thead tr th {\n",
       "        text-align: left;\n",
       "    }\n",
       "\n",
       "    .dataframe thead tr:last-of-type th {\n",
       "        text-align: right;\n",
       "    }\n",
       "</style>\n",
       "<table border=\"1\" class=\"dataframe\">\n",
       "  <thead>\n",
       "    <tr>\n",
       "      <th></th>\n",
       "      <th colspan=\"9\" halign=\"left\">№</th>\n",
       "    </tr>\n",
       "    <tr>\n",
       "      <th>district</th>\n",
       "      <th>ВАО</th>\n",
       "      <th>ЗАО</th>\n",
       "      <th>САО</th>\n",
       "      <th>СВАО</th>\n",
       "      <th>СЗАО</th>\n",
       "      <th>ЮАО</th>\n",
       "      <th>ЮВАО</th>\n",
       "      <th>ЮЗАО</th>\n",
       "      <th>All</th>\n",
       "    </tr>\n",
       "    <tr>\n",
       "      <th>city_place</th>\n",
       "      <th></th>\n",
       "      <th></th>\n",
       "      <th></th>\n",
       "      <th></th>\n",
       "      <th></th>\n",
       "      <th></th>\n",
       "      <th></th>\n",
       "      <th></th>\n",
       "      <th></th>\n",
       "    </tr>\n",
       "  </thead>\n",
       "  <tbody>\n",
       "    <tr>\n",
       "      <th>Академический</th>\n",
       "      <td>0.0</td>\n",
       "      <td>0.0</td>\n",
       "      <td>0.0</td>\n",
       "      <td>0.0</td>\n",
       "      <td>0.0</td>\n",
       "      <td>0.0</td>\n",
       "      <td>0.0</td>\n",
       "      <td>636.5</td>\n",
       "      <td>636.5</td>\n",
       "    </tr>\n",
       "    <tr>\n",
       "      <th>Алексеевский</th>\n",
       "      <td>0.0</td>\n",
       "      <td>0.0</td>\n",
       "      <td>0.0</td>\n",
       "      <td>85.0</td>\n",
       "      <td>0.0</td>\n",
       "      <td>0.0</td>\n",
       "      <td>0.0</td>\n",
       "      <td>0.0</td>\n",
       "      <td>85.0</td>\n",
       "    </tr>\n",
       "    <tr>\n",
       "      <th>Бабушкинский</th>\n",
       "      <td>0.0</td>\n",
       "      <td>0.0</td>\n",
       "      <td>0.0</td>\n",
       "      <td>94.0</td>\n",
       "      <td>0.0</td>\n",
       "      <td>0.0</td>\n",
       "      <td>0.0</td>\n",
       "      <td>0.0</td>\n",
       "      <td>94.0</td>\n",
       "    </tr>\n",
       "    <tr>\n",
       "      <th>Бескудниковский</th>\n",
       "      <td>0.0</td>\n",
       "      <td>0.0</td>\n",
       "      <td>5.5</td>\n",
       "      <td>0.0</td>\n",
       "      <td>0.0</td>\n",
       "      <td>0.0</td>\n",
       "      <td>0.0</td>\n",
       "      <td>0.0</td>\n",
       "      <td>5.5</td>\n",
       "    </tr>\n",
       "    <tr>\n",
       "      <th>Бирюлево Восточное</th>\n",
       "      <td>0.0</td>\n",
       "      <td>0.0</td>\n",
       "      <td>0.0</td>\n",
       "      <td>0.0</td>\n",
       "      <td>0.0</td>\n",
       "      <td>554.5</td>\n",
       "      <td>0.0</td>\n",
       "      <td>0.0</td>\n",
       "      <td>554.5</td>\n",
       "    </tr>\n",
       "    <tr>\n",
       "      <th>...</th>\n",
       "      <td>...</td>\n",
       "      <td>...</td>\n",
       "      <td>...</td>\n",
       "      <td>...</td>\n",
       "      <td>...</td>\n",
       "      <td>...</td>\n",
       "      <td>...</td>\n",
       "      <td>...</td>\n",
       "      <td>...</td>\n",
       "    </tr>\n",
       "    <tr>\n",
       "      <th>Южное Медведково</th>\n",
       "      <td>0.0</td>\n",
       "      <td>0.0</td>\n",
       "      <td>0.0</td>\n",
       "      <td>148.5</td>\n",
       "      <td>0.0</td>\n",
       "      <td>0.0</td>\n",
       "      <td>0.0</td>\n",
       "      <td>0.0</td>\n",
       "      <td>148.5</td>\n",
       "    </tr>\n",
       "    <tr>\n",
       "      <th>Южнопортовый</th>\n",
       "      <td>0.0</td>\n",
       "      <td>0.0</td>\n",
       "      <td>0.0</td>\n",
       "      <td>0.0</td>\n",
       "      <td>0.0</td>\n",
       "      <td>0.0</td>\n",
       "      <td>548.0</td>\n",
       "      <td>0.0</td>\n",
       "      <td>548.0</td>\n",
       "    </tr>\n",
       "    <tr>\n",
       "      <th>Ярославский</th>\n",
       "      <td>0.0</td>\n",
       "      <td>0.0</td>\n",
       "      <td>0.0</td>\n",
       "      <td>152.0</td>\n",
       "      <td>0.0</td>\n",
       "      <td>0.0</td>\n",
       "      <td>0.0</td>\n",
       "      <td>0.0</td>\n",
       "      <td>152.0</td>\n",
       "    </tr>\n",
       "    <tr>\n",
       "      <th>Ясенево</th>\n",
       "      <td>0.0</td>\n",
       "      <td>0.0</td>\n",
       "      <td>0.0</td>\n",
       "      <td>0.0</td>\n",
       "      <td>0.0</td>\n",
       "      <td>0.0</td>\n",
       "      <td>0.0</td>\n",
       "      <td>710.5</td>\n",
       "      <td>710.5</td>\n",
       "    </tr>\n",
       "    <tr>\n",
       "      <th>All</th>\n",
       "      <td>262.5</td>\n",
       "      <td>767.0</td>\n",
       "      <td>42.0</td>\n",
       "      <td>118.0</td>\n",
       "      <td>831.5</td>\n",
       "      <td>590.5</td>\n",
       "      <td>461.5</td>\n",
       "      <td>671.0</td>\n",
       "      <td>420.5</td>\n",
       "    </tr>\n",
       "  </tbody>\n",
       "</table>\n",
       "<p>68 rows × 9 columns</p>\n",
       "</div>"
      ],
      "text/plain": [
       "                        №                                                  \\\n",
       "district              ВАО    ЗАО   САО   СВАО   СЗАО    ЮАО   ЮВАО   ЮЗАО   \n",
       "city_place                                                                  \n",
       "Академический         0.0    0.0   0.0    0.0    0.0    0.0    0.0  636.5   \n",
       "Алексеевский          0.0    0.0   0.0   85.0    0.0    0.0    0.0    0.0   \n",
       "Бабушкинский          0.0    0.0   0.0   94.0    0.0    0.0    0.0    0.0   \n",
       "Бескудниковский       0.0    0.0   5.5    0.0    0.0    0.0    0.0    0.0   \n",
       "Бирюлево Восточное    0.0    0.0   0.0    0.0    0.0  554.5    0.0    0.0   \n",
       "...                   ...    ...   ...    ...    ...    ...    ...    ...   \n",
       "Южное Медведково      0.0    0.0   0.0  148.5    0.0    0.0    0.0    0.0   \n",
       "Южнопортовый          0.0    0.0   0.0    0.0    0.0    0.0  548.0    0.0   \n",
       "Ярославский           0.0    0.0   0.0  152.0    0.0    0.0    0.0    0.0   \n",
       "Ясенево               0.0    0.0   0.0    0.0    0.0    0.0    0.0  710.5   \n",
       "All                 262.5  767.0  42.0  118.0  831.5  590.5  461.5  671.0   \n",
       "\n",
       "                           \n",
       "district              All  \n",
       "city_place                 \n",
       "Академический       636.5  \n",
       "Алексеевский         85.0  \n",
       "Бабушкинский         94.0  \n",
       "Бескудниковский       5.5  \n",
       "Бирюлево Восточное  554.5  \n",
       "...                   ...  \n",
       "Южное Медведково    148.5  \n",
       "Южнопортовый        548.0  \n",
       "Ярославский         152.0  \n",
       "Ясенево             710.5  \n",
       "All                 420.5  \n",
       "\n",
       "[68 rows x 9 columns]"
      ]
     },
     "execution_count": 221,
     "metadata": {},
     "output_type": "execute_result"
    }
   ],
   "source": [
    "pivot = test[test['district'].isin(['САО', 'СВАО', 'ВАО', 'ЮВАО', 'ЮАО', 'ЮЗАО', 'ЗАО', 'СЗАО'])].pivot_table(\n",
    "index = ['city_place'], columns=['district'], margins=True).fillna(0)\n",
    "pivot"
   ]
  },
  {
   "cell_type": "code",
   "execution_count": 237,
   "metadata": {},
   "outputs": [
    {
     "data": {
      "text/plain": [
       "<matplotlib.axes._subplots.AxesSubplot at 0x1d00b25e448>"
      ]
     },
     "execution_count": 237,
     "metadata": {},
     "output_type": "execute_result"
    },
    {
     "data": {
      "image/png": "[encoded data removed]",
      "text/plain": [
       "<Figure size 432x288 with 1 Axes>"
      ]
     },
     "metadata": {
      "needs_background": "light"
     },
     "output_type": "display_data"
    }
   ],
   "source": [
    "test['district'].value_counts().plot(kind='bar')"
   ]
  },
  {
   "cell_type": "code",
   "execution_count": 287,
   "metadata": {},
   "outputs": [
    {
     "data": {
      "text/plain": [
       "<matplotlib.axes._subplots.AxesSubplot at 0x1d00fa685c8>"
      ]
     },
     "execution_count": 287,
     "metadata": {},
     "output_type": "execute_result"
    },
    {
     "data": {
      "image/png": "[encoded data removed]",
      "text/plain": [
       "<Figure size 432x288 with 1 Axes>"
      ]
     },
     "metadata": {
      "needs_background": "light"
     },
     "output_type": "display_data"
    }
   ],
   "source": [
    "sns.countplot(x = 'district', data = test, palette=\"rocket\", order = test['district'].value_counts().index)"
   ]
  },
  {
   "cell_type": "code",
   "execution_count": null,
   "metadata": {},
   "outputs": [],
   "source": []
  }
 ],
 "metadata": {
  "kernelspec": {
   "display_name": "Python 3",
   "language": "python",
   "name": "python3"
  },
  "language_info": {
   "codemirror_mode": {
    "name": "ipython",
    "version": 3
   },
   "file_extension": ".py",
   "mimetype": "text/x-python",
   "name": "python",
   "nbconvert_exporter": "python",
   "pygments_lexer": "ipython3",
   "version": "3.7.4"
  }
 },
 "nbformat": 4,
 "nbformat_minor": 2
}
